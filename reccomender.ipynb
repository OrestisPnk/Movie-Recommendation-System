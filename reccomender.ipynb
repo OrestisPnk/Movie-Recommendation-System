{
  "nbformat": 4,
  "nbformat_minor": 0,
  "metadata": {
    "colab": {
      "name": "reccomender.ipynb",
      "provenance": [],
      "collapsed_sections": [],
      "include_colab_link": true
    },
    "kernelspec": {
      "name": "python3",
      "display_name": "Python 3"
    },
    "accelerator": "TPU"
  },
  "cells": [
    {
      "cell_type": "markdown",
      "metadata": {
        "id": "view-in-github",
        "colab_type": "text"
      },
      "source": [
        "<a href=\"https://colab.research.google.com/github/OrestisPnk/Movie-Recommendation-System/blob/master/reccomender.ipynb\" target=\"_parent\"><img src=\"https://colab.research.google.com/assets/colab-badge.svg\" alt=\"Open In Colab\"/></a>"
      ]
    },
    {
      "cell_type": "code",
      "metadata": {
        "id": "e561JsXBGLSQ",
        "colab": {
          "base_uri": "https://localhost:8080/",
          "height": 122
        },
        "outputId": "25ee96b4-5dea-4e3d-b83d-673409c32cde"
      },
      "source": [
        "from google.colab import drive\n",
        "drive.mount('drive')"
      ],
      "execution_count": null,
      "outputs": [
        {
          "output_type": "stream",
          "text": [
            "Go to this URL in a browser: https://accounts.google.com/o/oauth2/auth?client_id=947318989803-6bn6qk8qdgf4n4g3pfee6491hc0brc4i.apps.googleusercontent.com&redirect_uri=urn%3aietf%3awg%3aoauth%3a2.0%3aoob&response_type=code&scope=email%20https%3a%2f%2fwww.googleapis.com%2fauth%2fdocs.test%20https%3a%2f%2fwww.googleapis.com%2fauth%2fdrive%20https%3a%2f%2fwww.googleapis.com%2fauth%2fdrive.photos.readonly%20https%3a%2f%2fwww.googleapis.com%2fauth%2fpeopleapi.readonly\n",
            "\n",
            "Enter your authorization code:\n",
            "··········\n",
            "Mounted at drive\n"
          ],
          "name": "stdout"
        }
      ]
    },
    {
      "cell_type": "code",
      "metadata": {
        "id": "KX6YsGrKGT0B",
        "colab": {
          "resources": {
            "http://localhost:8080/nbextensions/google.colab/files.js": {
              "data": "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",
              "ok": true,
              "headers": [
                [
                  "content-type",
                  "application/javascript"
                ]
              ],
              "status": 200,
              "status_text": ""
            }
          },
          "base_uri": "https://localhost:8080/",
          "height": 73
        },
        "outputId": "c12b6cf3-6c51-440e-a81b-fbba3d0c9113"
      },
      "source": [
        "from google.colab import files\n",
        "uploaded = files.upload()   "
      ],
      "execution_count": null,
      "outputs": [
        {
          "output_type": "display_data",
          "data": {
            "text/html": [
              "\n",
              "     <input type=\"file\" id=\"files-c5b4a168-bb8a-46c0-a0b6-b9cde3632d86\" name=\"files[]\" multiple disabled\n",
              "        style=\"border:none\" />\n",
              "     <output id=\"result-c5b4a168-bb8a-46c0-a0b6-b9cde3632d86\">\n",
              "      Upload widget is only available when the cell has been executed in the\n",
              "      current browser session. Please rerun this cell to enable.\n",
              "      </output>\n",
              "      <script src=\"/nbextensions/google.colab/files.js\"></script> "
            ],
            "text/plain": [
              "<IPython.core.display.HTML object>"
            ]
          },
          "metadata": {
            "tags": []
          }
        },
        {
          "output_type": "stream",
          "text": [
            "Saving u.data to u.data\n"
          ],
          "name": "stdout"
        }
      ]
    },
    {
      "cell_type": "code",
      "metadata": {
        "id": "afrY74X53Oc9",
        "colab": {
          "resources": {
            "http://localhost:8080/nbextensions/google.colab/files.js": {
              "data": "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",
              "ok": true,
              "headers": [
                [
                  "content-type",
                  "application/javascript"
                ]
              ],
              "status": 200,
              "status_text": ""
            }
          },
          "base_uri": "https://localhost:8080/",
          "height": 72
        },
        "outputId": "057071d0-543f-476e-a30b-0171e03fb086"
      },
      "source": [
        "uploaded2 = files.upload()   "
      ],
      "execution_count": null,
      "outputs": [
        {
          "output_type": "display_data",
          "data": {
            "text/html": [
              "\n",
              "     <input type=\"file\" id=\"files-4cf32046-8999-4e1a-bcae-7b4d759da66f\" name=\"files[]\" multiple disabled\n",
              "        style=\"border:none\" />\n",
              "     <output id=\"result-4cf32046-8999-4e1a-bcae-7b4d759da66f\">\n",
              "      Upload widget is only available when the cell has been executed in the\n",
              "      current browser session. Please rerun this cell to enable.\n",
              "      </output>\n",
              "      <script src=\"/nbextensions/google.colab/files.js\"></script> "
            ],
            "text/plain": [
              "<IPython.core.display.HTML object>"
            ]
          },
          "metadata": {
            "tags": []
          }
        },
        {
          "output_type": "stream",
          "text": [
            "Saving ua.base to ua.base\n"
          ],
          "name": "stdout"
        }
      ]
    },
    {
      "cell_type": "code",
      "metadata": {
        "id": "eypv0DNn7r5B",
        "colab": {
          "resources": {
            "http://localhost:8080/nbextensions/google.colab/files.js": {
              "data": "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",
              "ok": true,
              "headers": [
                [
                  "content-type",
                  "application/javascript"
                ]
              ],
              "status": 200,
              "status_text": ""
            }
          },
          "base_uri": "https://localhost:8080/",
          "height": 72
        },
        "outputId": "041fda1c-3183-4e64-98cf-a8b7b950b1d5"
      },
      "source": [
        "uploaded3 = files.upload()   "
      ],
      "execution_count": null,
      "outputs": [
        {
          "output_type": "display_data",
          "data": {
            "text/html": [
              "\n",
              "     <input type=\"file\" id=\"files-2fb93b5f-f696-4e9d-bc05-6730dc0ae006\" name=\"files[]\" multiple disabled\n",
              "        style=\"border:none\" />\n",
              "     <output id=\"result-2fb93b5f-f696-4e9d-bc05-6730dc0ae006\">\n",
              "      Upload widget is only available when the cell has been executed in the\n",
              "      current browser session. Please rerun this cell to enable.\n",
              "      </output>\n",
              "      <script src=\"/nbextensions/google.colab/files.js\"></script> "
            ],
            "text/plain": [
              "<IPython.core.display.HTML object>"
            ]
          },
          "metadata": {
            "tags": []
          }
        },
        {
          "output_type": "stream",
          "text": [
            "Saving ua.test to ua.test\n"
          ],
          "name": "stdout"
        }
      ]
    },
    {
      "cell_type": "code",
      "metadata": {
        "id": "1mHh_EyhGH64"
      },
      "source": [
        "import pandas as pd\n",
        "import numpy as np\n",
        "from scipy import stats\n",
        "from itertools import zip_longest\n",
        "import random\n",
        "import matplotlib.pyplot as plt\n",
        "import seaborn as sns\n",
        "import math"
      ],
      "execution_count": null,
      "outputs": []
    },
    {
      "cell_type": "code",
      "metadata": {
        "id": "ZDRKBzTfnT22"
      },
      "source": [
        "# load data, set new as our original dataframe \n",
        "new = pd.read_csv('u.data', sep='\\t',names= ['userID','movieID','rating','timestamp'])\n",
        "new = new.pivot(index='userID',columns='movieID',values='rating')"
      ],
      "execution_count": null,
      "outputs": []
    },
    {
      "cell_type": "code",
      "metadata": {
        "id": "0oBZaMfs3tz8"
      },
      "source": [
        "# load training data, set new2 as our original training dataframe \n",
        "new2 = pd.read_csv('ua.base', sep='\\t',names= ['userID','movieID','rating','timestamp'])\n",
        "new2 = new2.pivot(index='userID',columns='movieID',values='rating')"
      ],
      "execution_count": null,
      "outputs": []
    },
    {
      "cell_type": "code",
      "metadata": {
        "id": "Iqv6eIYf30mL"
      },
      "source": [
        "# load training data, set new3 as our testing dataframe \n",
        "new3 = pd.read_csv('ua.test', sep='\\t',names= ['userID','movieID','rating','timestamp'])\n",
        "new3 = new3.pivot(index='userID',columns='movieID',values='rating')"
      ],
      "execution_count": null,
      "outputs": []
    },
    {
      "cell_type": "code",
      "metadata": {
        "id": "3qHrtwyjApzb"
      },
      "source": [
        "#  Η συνάρτηση που υπολογίζει τη συσχέτιση Pearson μεταξύ των χρηστών του dataset και του χρήστη που μας ενδιαφέρει\n",
        "\n",
        "def correlate(u1,new):\n",
        "# initialize pearson's numerator and denominator\n",
        "      num,std1,std2=0,0,0\n",
        "      Plist=[]\n",
        "   # Συλλέγω όλες τις αξιολογήσεις του χρήστη και αφαιρώ τη μέση τιμή αυτών\n",
        "      u1=u1.dropna()-(u1.mean())\n",
        "      \n",
        "      for n in range(0,len(new)):\n",
        "        us1,us2=[],[]\n",
        "        \n",
        "      # Συλλέγω όλες τις αξιολογήσεις του υποψήφιου γείτονα και αφαιρώ τη μέση τιμή αυτών\n",
        "        u2=new.iloc[n]\n",
        "        u2=u2.dropna()-(u2.mean())\n",
        "\n",
        "      # indexes of movies that both users have rated\n",
        "        ind=u1.index.intersection(u2.index)\n",
        "\n",
        "        for i in range(0,len(ind)):\n",
        "\n",
        "          us1.append(u1.loc[ind[i]])\n",
        "          us2.append(u2.loc[ind[i]])\n",
        "\n",
        "        if len(ind)>12:# and len(dif)>70 :\n",
        "\n",
        "       # pearson's coefficient numerator, covariance\n",
        "          num=sum([a*b for a,b in zip(us1,us2)])\n",
        "\n",
        "       # denominator, product of standard deviations\n",
        "          std1=np.sqrt(sum([a*b for a,b in zip(us1,us1)]))\n",
        "          std2=np.sqrt(sum([a*b for a,b in zip(us2,us2)]))\n",
        "\n",
        "       # compute pearson's coefficient , +1  to avoid negative values\n",
        "          sim=(num/(std1*std2))+1\n",
        "\n",
        "        else :sim=0\n",
        "\n",
        "        Plist.append(sim)\n",
        "      return Plist\n",
        "\n",
        "# Διαμόρφωση της Λίστας με τους γείτονες\n",
        "def presentList(Plist,i):\n",
        "    PEARSON = pd.DataFrame({'correlation':Plist})\n",
        "    a=False\n",
        "    if i==1:\n",
        "      u=\"userID\"\n",
        "      j=11\n",
        "    else:\n",
        "      u=\"chromosomeID\"\n",
        "      j=len(Plist)\n",
        "      a=True\n",
        "    PEARSON.insert(1,u, range(1, 1 + len(Plist)))\n",
        "    PEARSON=PEARSON.sort_values(by='correlation', ascending=a)\n",
        "    PEARSON=PEARSON.head(j)\n",
        "    return PEARSON\n",
        "\n",
        "# δείκτες-ids για τους 10 κοντινότερους γείτονες\n",
        "def topIndex(PEARSON):\n",
        "    top10=PEARSON.index.to_list()\n",
        "    # top10 user's ID\n",
        "    top10.pop(0)\n",
        "    return top10  \n",
        "\n",
        "# Εύρεση των ταινιών που έχουν αξιολογήσει μόνο οι γείτονες, (ΤαινίεςΓείτονα1)ΕΝΩΣΗ...ΕΝΩΣΗ(ΤαινίεςΓείτονα10)-{ΤαινίεςΧρηστη}\n",
        "def findRecommendations(u,new,top10):\n",
        "    u1=new.iloc[u].dropna()\n",
        "    recom=u1.index\n",
        "    for t in top10:\n",
        "        u2=new.iloc[t].dropna()\n",
        "        recom=recom.union(u2.index)   \n",
        "    recom=recom.difference(u1.index)\n",
        "    return recom\n",
        "\n",
        "def findRecommendations2(new,new2,top10,u):\n",
        "    u1=new2.iloc[u].dropna()\n",
        "    recom=u1.index\n",
        "    for t in top10:\n",
        "        u2=new.iloc[t].dropna()\n",
        "        recom=recom.union(u2.index)\n",
        "    recom=recom.difference(u1.index)\n",
        "    return recom\n",
        "\n",
        "# Συνάρτηση από την οποία προκύπτουν το fitness των ατόμων του πληθυσμού, δηλαδή o μέσος όρος των συσχετίσεων Pearson του κάθε ατόμου με τους γείτονες\n",
        "def fitness(pop,Neighbors,recom):     \n",
        "    Fitlist,IndCorList=[],[]\n",
        "    for i in range(0,len(pop)):\n",
        "        individual=pop.iloc[i]\n",
        "        #Individuals mean correlation\n",
        "        IndCorList=correlate2(individual,Neighbors,recom)\n",
        "        # IndCorList=correlate(individual,Neighbors)\n",
        "        Fitlist.append(np.mean(IndCorList))\n",
        "    return Fitlist\n",
        "\n",
        "# Ίδια με την correlate(), αλλά την χρησιμοποιώ αποκλειστικά μέσα στη fitness, και παίρνει επιπλέον το όρισμα των ταινιών που έχει δει η γειτονιά αλλά όχι ο χρηστης\n",
        "def correlate2(u1,new,recom):\n",
        "      num,std1,std2=0,0,0\n",
        "      Plist=[]\n",
        "      u1=u1.dropna()-(u1.mean())\n",
        "      \n",
        "      for n in range(0,len(new)):\n",
        "        us1,us2=[],[]\n",
        "        \n",
        "        u2=new.iloc[n]\n",
        "        u2=u2.dropna()-(u2.mean())\n",
        "        \n",
        " # indexes of movies that only neighborhood has seen\n",
        "        ind=recom.intersection(u2.index)\n",
        "\n",
        "        for i in range(0,len(ind)):\n",
        "\n",
        "          us1.append(u1.loc[ind[i]])\n",
        "          us2.append(u2.loc[ind[i]])\n",
        "\n",
        "        if len(ind)>2:# and len(dif)>70 :\n",
        "\n",
        "          num=sum([a*b for a,b in zip(us1,us2)])\n",
        "\n",
        "          std1=np.sqrt(sum([a*b for a,b in zip(us1,us1)]))\n",
        "          std2=np.sqrt(sum([a*b for a,b in zip(us2,us2)]))\n",
        "\n",
        "          sim=(num/(std1*std2))+1\n",
        "\n",
        "        else :sim=0\n",
        "\n",
        "        Plist.append(sim)\n",
        "      return Plist\n",
        "\n",
        " # #Rank based Selection\n",
        "def selection(Evaluations,SortedEvaluations,pop):\n",
        "    Evaluations.sort()\n",
        "    Evaluations\n",
        "\n",
        "    #Η μέγιστη αξιολόγηση θα είναι όσο και το μέγεθος του πληθυσμού(20 ή 200) και η μικρότερη θα είναι 1\n",
        "    N=len(Evaluations)\n",
        "    TotalFitness=(N+1)*N/2\n",
        "\n",
        "    #Λίστα των individuals, των πιθανοτήτων, των αθροιστικών πιθανοτήτων,επιλεγμένων ατόμων,ψευδοτυχαίων αριθμών\n",
        "    IndListIndexes,ProbSelection,CumProb,newList,randomy=[],[],[],[],[]\n",
        "    \n",
        "    #Δημιουργία ψευδτορυχαίων αριθμών και ανάθεσή τους στη λίστα\n",
        "    for j in range(N):\n",
        "        x = random.random()\n",
        "        randomy.append(x)\n",
        "\n",
        "    #Ανάθεση πιθανοτήτων και αθροιστικών πιθανοτήτων,  από τον χειρότερο στον καλύτερο\n",
        "    for i in range(N):\n",
        "        if i==0: #Εάν είναι ο πρώτος\n",
        "          ProbSelection.append(1/TotalFitness)\n",
        "          CumProb.append(ProbSelection[i])\n",
        "        else:  #αλλιώς αθροιστικά\n",
        "          ProbSelection.append((i+1)/TotalFitness)\n",
        "          CumProb.append(CumProb[i-1]+ProbSelection[i])\n",
        "          \n",
        "    #Επιλογή\n",
        "    for j in range(N):\n",
        "      if randomy[j]<CumProb[0]:\n",
        "          IndListIndexes.append(0)\n",
        "      else:\n",
        "        for e in range(N-1):\n",
        "            if CumProb[e]<randomy[j] and randomy[j]<=CumProb[e+1] :\n",
        "              #indexes of selected individuals to be accessed in dataframe \n",
        "                IndListIndexes.append(e+1)\n",
        "\n",
        "    newList=SortedEvaluations.iloc[IndListIndexes].index.to_list()\n",
        "    NewPop=pd.DataFrame(pop.iloc[newList])\n",
        "    return NewPop\n",
        "\n",
        "# Ομοιόμορφη διασταύρωση\n",
        "# Αρχικοποιώ μία δυαδική λίστα και τη συμπληρωματική της\n",
        "# Καλώ τους γονείς και αν το αντίστοιχο στοιχείο της πρώτης λίστας είναι 0 τότε ο πρώτος από τους δύο απογόνους κληρονομεί την αξιολόγηση από τον πρώτο γονέα, \n",
        "# ενώ αντίστοιχα ο άλλος απόγονος, κληρονομεί την αξιολόγηση από τον δεύτερο γονέα\n",
        "def uniformX(Selected,Pc,pop_size):\n",
        "    offspring1,offspring2,offsprings,generator=[],[],[],[]\n",
        "\n",
        "    #γεννητρια ψευδοτυχαίων αριθμών προκειμένου να αποφανθούμε αν θα γίνει διαστάυρωση\n",
        "    for g in range(pop_size):\n",
        "        y = random.random()\n",
        "        generator.append(y)\n",
        "\n",
        "    for i in range(0,len(Selected),2):\n",
        "        offspring1=[]\n",
        "        offspring2=[]\n",
        "        # parents\n",
        "        p1=Selected.iloc[i].to_list()\n",
        "        p2=Selected.iloc[i+1].to_list()\n",
        "        p = [p1,p2]    \n",
        "\n",
        "        crandomy,randomy=[],[]\n",
        "        \n",
        "         # Αρχικοποίηση δυαδικής λίστας\n",
        "        for j in range(len(p1)):\n",
        "            x = random.randint(0,1)\n",
        "            randomy.append(x)\n",
        "        # παίρνω το συμπλήρωμα ως προς ένα\n",
        "            crandomy.append(np.abs(randomy[j]-1))          \n",
        "\n",
        "        # Δημιουργώ τον πρώτο απόγονο διαλέγοντας για 0 την αντίστοιχη αξιολόγηση του εκάστοτε 1ου γονέα και για 1 του εκάστοτε 2ου\n",
        "        # ενώ ο δεύτερος απόγονος δημιουργείται με βάση τη συμπληρωματική λίστα, με τον ίδιο τρόπο.\n",
        "\n",
        "        if generator[i]<Pc:\n",
        "          for i in range(len(p[0])):\n",
        "              offspring1.append(p[randomy[i]][i])\n",
        "              offspring2.append(p[crandomy[i]][i])\n",
        "        else:\n",
        "          for i in range(len(p[0])):\n",
        "            offspring1.append(p1[i])\n",
        "            offspring2.append(p2[i])\n",
        "        offsprings.append(offspring1)\n",
        "        offsprings.append(offspring2)\n",
        "    NextGen=pd.DataFrame(offsprings)\n",
        "    NextGen.index=NextGen.index+1\n",
        "    NextGen.columns=columns\n",
        "    NextGen.index.name = 'IndividualID'\n",
        "    return NextGen\n",
        "\n",
        "# Μετάλλαξη της αντίστοιχης αξιολόγησης, σε κάποια άλλη νόμιμη που ανήκει στο σύνολο [1,5] - {τωρινή αξιολόγηση}\n",
        "def mutation(NextGeneration, Pm):\n",
        "    \n",
        "    # Δημιουργία array τυχαίων τιμών, διαστάσεων όσο και ο πληθυσμός\n",
        "    mutArr= np.random.random(size=(NextGeneration.shape))\n",
        "    # Δείκτες των θέσεων όπου η τυχαία τιμή είναι μικρότερη της πιθανότητας μετάλλαξης. \n",
        "    a=np.nonzero(mutArr <0.01)\n",
        "\n",
        "    # Επιλογή των τιμών στις θέσεις όπου και θα πραγματοποιηθεί η μετάλλαξη\n",
        "    NG1=NextGeneration.values\n",
        "    g1=list(NG1[a])\n",
        "\n",
        "    # Δημιουργία των νέων αξιολογήσεων, μέσω μετάλλαξης\n",
        "    for x in range(len(g1)):\n",
        "      b=random.randint(1,5)\n",
        "      while True:\n",
        "          if b!=g1[x]:\n",
        "            break\n",
        "          else:\n",
        "            b=random.randint(1,5)\n",
        "      g1[x]=b\n",
        "\n",
        "    # Αντικατάσταση των νέων στοιχείων στις κατάλληλες θέσεις\n",
        "    NG1[a]=g1\n",
        "\n",
        "    # return population\n",
        "    NewGeneration=pd.DataFrame(NG1)\n",
        "    NewGeneration.index=NewGeneration.index+1\n",
        "    NewGeneration.index.name = 'NewGenID'\n",
        "    NewGeneration.columns=columns \n",
        "\n",
        "    return NewGeneration\n",
        "\n",
        "def rootedMSE(a,u,new3,NewGeneration,SortedEvaluations):\n",
        "    x=NewGeneration.iloc[SortedEvaluations.iloc[-1,1]-1][a].values\n",
        "    y=new3.iloc[u].dropna().values\n",
        "    return math.sqrt(np.mean((x-y)**2))\n",
        "\n",
        "def meanAE(a,u,new3,NewGeneration,SortedEvaluations):\n",
        "    x=NewGeneration.iloc[SortedEvaluations.iloc[-1,1]-1][a].values\n",
        "    y=new3.iloc[u].dropna().values\n",
        "    return np.mean(abs(x-y))"
      ],
      "execution_count": null,
      "outputs": []
    },
    {
      "cell_type": "code",
      "metadata": {
        "id": "p5NUwvhq9L9O",
        "colab": {
          "base_uri": "https://localhost:8080/",
          "height": 34
        },
        "outputId": "82a1fb19-6e18-4cff-a696-fccd79521cfa"
      },
      "source": [
        "# #Εύρεση χρηστών όπου οι γείτονές τους έχουν αξιολογήσει τις 10 ταινίες του συνόλου ελέγχου\n",
        "\n",
        "usa=[]\n",
        "for i in range(943):\n",
        "    u1=new.iloc[i].dropna()\n",
        "    a=new3.iloc[i].dropna().index\n",
        "    PearList=correlate(u1,new)\n",
        "    PEARSON=presentList(PearList,1)\n",
        "    NeighborInd=topIndex(PEARSON)\n",
        "    b=new.iloc[NeighborInd][a].any() #.values#.tolist()\n",
        "\n",
        "    if sum(b.values)>9:\n",
        "        usa.append(i)\n",
        "usa[41:44]"
      ],
      "execution_count": null,
      "outputs": [
        {
          "output_type": "execute_result",
          "data": {
            "text/plain": [
              "[142, 145, 146]"
            ]
          },
          "metadata": {
            "tags": []
          },
          "execution_count": 9
        }
      ]
    },
    {
      "cell_type": "code",
      "metadata": {
        "id": "YhRsCUHs4SHT",
        "colab": {
          "base_uri": "https://localhost:8080/",
          "height": 126
        },
        "outputId": "9853a6ad-1f07-4ff1-8086-4b702937f78e"
      },
      "source": [
        "##########                      ΕΡΩΤΗΜΑ Β4.β                      ##############\n",
        " \n",
        "#     Επιλογή index χρήστη\n",
        "##    επιλογή χρήστη, \n",
        "###    αρχικοποίηση μεγέθους πληθυσμού, Pc, Pm, μέγιστου αριθμού γενεών\n",
        "####   αρχικοποίηση μετρητή γενεών, μέσου αριθμού γενεών και μέσης τιμής βέλτιστου\n",
        "#####  αρχικοποίηση μέσου όρου αποδόσεων για κάθε μία από τις επαναλήψεις λόγω στοχαστικής φύσης καθώς\n",
        "u=154       \n",
        "u1=new.iloc[u]\n",
        "a=new3.iloc[u].dropna().index\n",
        "pop_size,Pc,Pm,maxgen=200,0.9,0.01,300\n",
        "generation,meanGen,meanBest=1,0,0\n",
        "fit,temp,divide,temp2,RMSE,MAE,tempRMSE,tempMAE=[],[],[],[],[],[],[],[]\n",
        "# Πλήθος επαναλήψεων λόγω στοχαστικής φύσης του αλγορίθμου, Εύρος γενεών ως όριο για τα κριτήρια τερματισμού\n",
        "times=10\n",
        "limit=30\n",
        " \n",
        "# Συσχέτιση  user[1] με τους υπόλοιπους στο datset\n",
        "PearList=correlate(u1,new)\n",
        " \n",
        "# Παρουσίαση λίστας τοπ10 γειτόνων\n",
        "PEARSON=presentList(PearList,1)\n",
        " \n",
        "# indexes τοπ10 γειτόνων\n",
        "NeighborInd=topIndex(PEARSON)\n",
        " \n",
        "# find movie indexes that will be recommended\n",
        "recommendations=findRecommendations2(new,new2,NeighborInd,u)\n",
        "# recommendations=findRecommendations(u,new,NeighborInd)\n",
        "movies=recommendations.to_list()\n",
        " \n",
        " \n",
        "for i in range(times):\n",
        "        # Δημιουργία πληθυσμού\n",
        "        pop=[np.random.randint(1,6,len(recommendations)) for i in range(pop_size)]\n",
        "        pop=pd.DataFrame(pop)\n",
        "        pop.index=pop.index+1\n",
        "        pop.columns=movies\n",
        "        pop.index.name = 'IndividualID'\n",
        "        Neighbors=pd.DataFrame(new.iloc[NeighborInd])\n",
        " \n",
        "        #       Αξιολόγηση των ατόμων του πληθυσμού, με βάση τις ταινίες που έχουν δει οι γείτονες και όχι ο χρήστης\n",
        "        ##      Σορτάρισμα κατά αύξουσα σειρά\n",
        "        ###     Επιλογή των ατόμων που θα διασταυρωθούν\n",
        "        ####    Επιλογή συγκεκριμένων ταινιών, αυτών που έχει αξιολογήσει η γειτονιά αλλά όχι ο χρήστης, και που θα αποτελέσουν τα γονίδια\n",
        "        #####   Κρατάω τα indexes των ταινιών για τη δημιουργία των επόμενων dataframes\n",
        "        ######  Ομοιόμορφη διασταύρωση\n",
        "        ####### Μετάλλαξη\n",
        "        Evaluations=fitness(pop,Neighbors,recommendations) \n",
        "        SortedEvaluations=presentList(Evaluations,0)\n",
        "        NewPopulation=selection(Evaluations,SortedEvaluations,pop)\n",
        "        Selected=NewPopulation.loc[:, movies]\n",
        "        columns=Selected.columns.values\n",
        "        NextGeneration=uniformX(Selected,Pc,pop_size)\n",
        "        NewGeneration=mutation(NextGeneration,Pm)\n",
        " \n",
        "        while generation<maxgen :\n",
        "              generation+=1\n",
        " \n",
        "              Evaluations=fitness(NewGeneration,Neighbors,recommendations) \n",
        "              SortedEvaluations=presentList(Evaluations,0)\n",
        "              NewPopulation=selection(Evaluations,SortedEvaluations,NewGeneration)\n",
        " \n",
        "              Selected=NewPopulation.loc[:, movies]\n",
        "              columns=Selected.columns.values\n",
        "                  \n",
        "              NextGeneration=uniformX(Selected,Pc,pop_size)\n",
        "              NewGeneration=mutation(NextGeneration,Pm)\n",
        "              Evaluations=fitness(NewGeneration,Neighbors,recommendations) \n",
        "              SortedEvaluations=presentList(Evaluations,0)\n",
        "              \n",
        "              temp.append(SortedEvaluations.iloc[-1,0])\n",
        "              print(generation,SortedEvaluations.iloc[-1,0])\n",
        "              \n",
        "              rmse=rootedMSE(a,u,new3,NewGeneration,SortedEvaluations)\n",
        "              mae=meanAE(a,u,new3,NewGeneration,SortedEvaluations)\n",
        " \n",
        "              print('rmse:',rmse,'mae:',mae)\n",
        "              tempRMSE.append(rmse)\n",
        "              tempMAE.append(mae)\n",
        " \n",
        "####  Κριτήρια Τερματισμού  σε σχέση με το αν βελτιώνεται το καλύτερο άτομο σε βάθος γενεών ή αν βελτιώνεται κάτω από 1%\n",
        "              if len(temp)>limit :\n",
        "                if (SortedEvaluations.iloc[-1,0]<temp[-limit]) | ((100*(SortedEvaluations.iloc[-1,0]-temp[-limit])/temp[-limit]) <1e-1):\n",
        "                    break\n",
        "        temp2 = np.ones((generation-1), dtype = int)            \n",
        "        meanGen+=generation\n",
        "        print('temp,generation,temp2',temp,generation,temp2)\n",
        "        if i==0:\n",
        "            fit=temp\n",
        "            divide=temp2\n",
        "            RMSE=tempRMSE\n",
        "            MAE=tempMAE\n",
        " \n",
        "        else:\n",
        "            fit=[x+y for x,y in zip_longest(fit, temp, fillvalue=0)]\n",
        "            divide=[x+y for x,y in zip_longest(divide, temp2, fillvalue=0)]\n",
        "            RMSE=[x+y for x,y in zip_longest(RMSE, tempRMSE, fillvalue=0)]  \n",
        "            MAE=[x+y for x,y in zip_longest(MAE, tempMAE, fillvalue=0)]\n",
        "        print('qumulative sum of fitnesses:',fit,'\\nqumulative counter of generations:',divide,'\\nqumulative RMSE:',RMSE,'\\nqumulativeMAE:',MAE)\n",
        "        temp.sort()\n",
        "        meanBest+=temp[-1]\n",
        "        print('sortedtemp,qumulbest,qumulgen:',temp,meanBest,meanGen)\n",
        "        temp,temp2,tempRMSE,tempMAE=[],[],[],[]\n",
        "        generation=1\n",
        " \n",
        "#Μέση Τιμή Βέλτιστου\n",
        "meanBest=meanBest/times\n",
        "#Μέσος Αριθμός Γενεών\n",
        "meanGen=meanGen/times\n",
        "fit=[a/b for a,b in zip(fit,divide)]\n",
        "meanRMSE=[a/b for a,b in zip(RMSE,divide)]\n",
        "meanMAE=[a/b for a,b in zip(MAE,divide)]\n",
        "print('fit,meanGen,meanBest',fit,meanGen,meanBest)\n",
        "plt.plot(fit)\n",
        "plt.ylabel('Mean Correlation')\n",
        "plt.xlabel('Generations')\n",
        "plt.show()\n",
        "plt.plot(meanRMSE)\n",
        "plt.ylabel('Mean RMSE')\n",
        "plt.xlabel('Generations')\n",
        "plt.show()\n",
        "plt.plot(meanMAE)\n",
        "plt.ylabel('Mean MAE')\n",
        "plt.xlabel('Generations')\n",
        "plt.show()"
      ],
      "execution_count": null,
      "outputs": [
        {
          "output_type": "stream",
          "text": [
            "2 1.1357053533020827\n",
            "rmse: 1.70293863659264 mae: 1.3\n",
            "3 1.1248193947176899\n",
            "rmse: 1.6733200530681511 mae: 1.2\n",
            "4 1.1331112616690404\n",
            "rmse: 1.449137674618944 mae: 1.1\n"
          ],
          "name": "stdout"
        }
      ]
    }
  ]
}